{
 "cells": [
  {
   "cell_type": "markdown",
   "metadata": {},
   "source": [
    "## Tic Tac Toe! Game - My dirty attempt"
   ]
  },
  {
   "cell_type": "code",
   "execution_count": null,
   "metadata": {},
   "outputs": [],
   "source": []
  },
  {
   "cell_type": "code",
   "execution_count": null,
   "metadata": {},
   "outputs": [],
   "source": [
    "\n",
    "for x in range(0,3):\n",
    "    if board[x]==board[x+1]==marker and board[x+1]==board[x+2]==marker:\n",
    "        print ('Player {} wins'.format(marker))\n",
    "        return True\n",
    "    elif board[x]==board[x+3]==marker and board[x+3]==board[x+6]==marker:\n",
    "        print ('Player {} wins'.format(marker))\n",
    "        return True\n",
    "    \n",
    "    \n",
    "    \n"
   ]
  },
  {
   "cell_type": "markdown",
   "metadata": {},
   "source": [
    "## Trying to implement feasible conditions\n"
   ]
  },
  {
   "cell_type": "code",
   "execution_count": null,
   "metadata": {},
   "outputs": [],
   "source": []
  },
  {
   "cell_type": "code",
   "execution_count": 20,
   "metadata": {},
   "outputs": [
    {
     "name": "stdout",
     "output_type": "stream",
     "text": [
      "-------\n",
      "|X|2|O|\n",
      "-------\n",
      "|X|5|6|\n",
      "-------\n",
      "|X|O|9|\n",
      "-------\n",
      "Player X wins\n",
      "Do you want to play again?n\n"
     ]
    }
   ],
   "source": [
    "from IPython.display import clear_output\n",
    "\n",
    "print('Welcome to Tic Tac Toe!')\n",
    "\n",
    "board=[]\n",
    "for x in range(0,9):\n",
    "    board.append(x+1)\n",
    "\n",
    "def reset_board(board):\n",
    "    board=[]\n",
    "    for x in range(0,9):\n",
    "        board.append(x+1)\n",
    "    return board    \n",
    "    \n",
    "\n",
    "def print_board(board):\n",
    "    clear_output()\n",
    "    print('-------')\n",
    "    print ('|' + str(board[0]) + '|' + str(board[1]) + '|' + str(board[2])+ '|')\n",
    "    print('-------')\n",
    "    print ('|' + str(board[3]) + '|' + str(board[4]) + '|' + str(board[5])+ '|')\n",
    "    print('-------')\n",
    "    print ('|' + str(board[6]) + '|' + str(board[7]) + '|' + str(board[8])+ '|')\n",
    "    print('-------')    \n",
    "          \n",
    "\n",
    "def player_input(board): \n",
    "        choice=0\n",
    "        print_board(board)\n",
    "        while True:    \n",
    "            x=int(input(\"Enter your location 1!!?\"))\n",
    "            if (board[x-1]=='X' or board[x-1]=='O'):\n",
    "                print ('Illegal Move!!')\n",
    "            else:\n",
    "                board[x-1]='X'\n",
    "                print_board(board)\n",
    "                win=check_win('X', board)\n",
    "                if (win==True):\n",
    "                    choice = input('Do you want to play again?')\n",
    "                    if choice.lower()=='y':\n",
    "                        player_input(reset_board(board))\n",
    "                    elif choice.lower()=='n':\n",
    "                        break\n",
    "           \n",
    "            y=int(input(\"Enter your location 2!!\"))    \n",
    "            if (board[y-1]=='X' or board[y-1]=='O'):\n",
    "                print (\"Illegal Move!!\")\n",
    "            else:\n",
    "                board[y-1]='O'\n",
    "                print_board(board)\n",
    "                win=check_win('O', board)\n",
    "                if (win==True):\n",
    "                    choice = input('Do you want to play again?')\n",
    "                    if choice.lower()=='y':\n",
    "                        player_input(reset_board(board))\n",
    "                    elif choice.lower()=='n':\n",
    "                        break\n",
    "            \n",
    "\n",
    "    \n",
    "def check_win(marker,board):\n",
    "    if board[0]==board[4]==board[8]==marker or board[2]==board[4]==board[6]==marker or board[0]==board[1]==board[2]==marker or board[3]==board[4]==board[5]==marker or    board[6]==board[7]==board[8]==marker or board[0]==board[3]==board[6]==marker or board[1]==board[4]==board[7]==marker or  board[2]==board[5]==board[8]==marker:\n",
    "        print ('Player {} wins'.format(marker))\n",
    "        return True\n",
    "    else:\n",
    "        return False\n",
    "        \n",
    "player_input(board)\n",
    "    \n",
    "        "
   ]
  },
  {
   "cell_type": "code",
   "execution_count": null,
   "metadata": {},
   "outputs": [],
   "source": []
  },
  {
   "cell_type": "code",
   "execution_count": null,
   "metadata": {},
   "outputs": [],
   "source": []
  }
 ],
 "metadata": {
  "kernelspec": {
   "display_name": "Python 3",
   "language": "python",
   "name": "python3"
  }
 },
 "nbformat": 4,
 "nbformat_minor": 2
}
